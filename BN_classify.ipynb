{
  "nbformat": 4,
  "nbformat_minor": 0,
  "metadata": {
    "colab": {
      "provenance": []
    },
    "kernelspec": {
      "name": "python3",
      "display_name": "Python 3"
    },
    "language_info": {
      "name": "python"
    },
    "widgets": {
      "application/vnd.jupyter.widget-state+json": {
        "5430b40c0e894e3db76d564c8c4a1c02": {
          "model_module": "@jupyter-widgets/controls",
          "model_name": "ButtonModel",
          "model_module_version": "1.5.0",
          "state": {
            "_dom_classes": [],
            "_model_module": "@jupyter-widgets/controls",
            "_model_module_version": "1.5.0",
            "_model_name": "ButtonModel",
            "_view_count": null,
            "_view_module": "@jupyter-widgets/controls",
            "_view_module_version": "1.5.0",
            "_view_name": "ButtonView",
            "button_style": "",
            "description": "Classify",
            "disabled": false,
            "icon": "",
            "layout": "IPY_MODEL_c0e4c93e6d0e4206be8923914b5f3ca8",
            "style": "IPY_MODEL_50498d40d45644b39b0a1671e3736539",
            "tooltip": ""
          }
        },
        "c0e4c93e6d0e4206be8923914b5f3ca8": {
          "model_module": "@jupyter-widgets/base",
          "model_name": "LayoutModel",
          "model_module_version": "1.2.0",
          "state": {
            "_model_module": "@jupyter-widgets/base",
            "_model_module_version": "1.2.0",
            "_model_name": "LayoutModel",
            "_view_count": null,
            "_view_module": "@jupyter-widgets/base",
            "_view_module_version": "1.2.0",
            "_view_name": "LayoutView",
            "align_content": null,
            "align_items": null,
            "align_self": null,
            "border": null,
            "bottom": null,
            "display": null,
            "flex": null,
            "flex_flow": null,
            "grid_area": null,
            "grid_auto_columns": null,
            "grid_auto_flow": null,
            "grid_auto_rows": null,
            "grid_column": null,
            "grid_gap": null,
            "grid_row": null,
            "grid_template_areas": null,
            "grid_template_columns": null,
            "grid_template_rows": null,
            "height": null,
            "justify_content": null,
            "justify_items": null,
            "left": null,
            "margin": null,
            "max_height": null,
            "max_width": null,
            "min_height": null,
            "min_width": null,
            "object_fit": null,
            "object_position": null,
            "order": null,
            "overflow": null,
            "overflow_x": null,
            "overflow_y": null,
            "padding": null,
            "right": null,
            "top": null,
            "visibility": null,
            "width": null
          }
        },
        "50498d40d45644b39b0a1671e3736539": {
          "model_module": "@jupyter-widgets/controls",
          "model_name": "ButtonStyleModel",
          "model_module_version": "1.5.0",
          "state": {
            "_model_module": "@jupyter-widgets/controls",
            "_model_module_version": "1.5.0",
            "_model_name": "ButtonStyleModel",
            "_view_count": null,
            "_view_module": "@jupyter-widgets/base",
            "_view_module_version": "1.2.0",
            "_view_name": "StyleView",
            "button_color": null,
            "font_weight": ""
          }
        },
        "129bdf10f20e4c799530a75197c0687d": {
          "model_module": "@jupyter-widgets/controls",
          "model_name": "VBoxModel",
          "model_module_version": "1.5.0",
          "state": {
            "_dom_classes": [],
            "_model_module": "@jupyter-widgets/controls",
            "_model_module_version": "1.5.0",
            "_model_name": "VBoxModel",
            "_view_count": null,
            "_view_module": "@jupyter-widgets/controls",
            "_view_module_version": "1.5.0",
            "_view_name": "VBoxView",
            "box_style": "",
            "children": [
              "IPY_MODEL_1cdaeee488044d3eb3f3a74e92777f62",
              "IPY_MODEL_3bf0481b9b214bb788074b3b311e7dce",
              "IPY_MODEL_5430b40c0e894e3db76d564c8c4a1c02",
              "IPY_MODEL_1d4b16cddbeb4135ba2459edd34d1d64",
              "IPY_MODEL_9725aa4cfdab450fa5865d421cae9537"
            ],
            "layout": "IPY_MODEL_31616192d41d47d5a3a5049740c10ac6"
          }
        },
        "1cdaeee488044d3eb3f3a74e92777f62": {
          "model_module": "@jupyter-widgets/controls",
          "model_name": "LabelModel",
          "model_module_version": "1.5.0",
          "state": {
            "_dom_classes": [],
            "_model_module": "@jupyter-widgets/controls",
            "_model_module_version": "1.5.0",
            "_model_name": "LabelModel",
            "_view_count": null,
            "_view_module": "@jupyter-widgets/controls",
            "_view_module_version": "1.5.0",
            "_view_name": "LabelView",
            "description": "",
            "description_tooltip": null,
            "layout": "IPY_MODEL_dc2a9c80f2e34ce5a1e5340bf7eacd90",
            "placeholder": "​",
            "style": "IPY_MODEL_fcd03b94b32242ee8d6db150b8925680",
            "value": "Select your bear!"
          }
        },
        "3bf0481b9b214bb788074b3b311e7dce": {
          "model_module": "@jupyter-widgets/controls",
          "model_name": "FileUploadModel",
          "model_module_version": "1.5.0",
          "state": {
            "_counter": 1,
            "_dom_classes": [],
            "_model_module": "@jupyter-widgets/controls",
            "_model_module_version": "1.5.0",
            "_model_name": "FileUploadModel",
            "_view_count": null,
            "_view_module": "@jupyter-widgets/controls",
            "_view_module_version": "1.5.0",
            "_view_name": "FileUploadView",
            "accept": "",
            "button_style": "",
            "data": [
              null
            ],
            "description": "Upload",
            "description_tooltip": null,
            "disabled": false,
            "error": "",
            "icon": "upload",
            "layout": "IPY_MODEL_5319dd4e39464e9a83618d109a7bb804",
            "metadata": [
              {
                "name": "Screenshot_2023-03-27-14-38-26-722_com.android.camera1.jpg",
                "type": "image/jpeg",
                "size": 150949,
                "lastModified": 1679908659472
              }
            ],
            "multiple": false,
            "style": "IPY_MODEL_f24eeb44943744c3a256234533d420a4"
          }
        },
        "1d4b16cddbeb4135ba2459edd34d1d64": {
          "model_module": "@jupyter-widgets/output",
          "model_name": "OutputModel",
          "model_module_version": "1.0.0",
          "state": {
            "_dom_classes": [],
            "_model_module": "@jupyter-widgets/output",
            "_model_module_version": "1.0.0",
            "_model_name": "OutputModel",
            "_view_count": null,
            "_view_module": "@jupyter-widgets/output",
            "_view_module_version": "1.0.0",
            "_view_name": "OutputView",
            "layout": "IPY_MODEL_8b12d59493ac4878bc9696539b004e0f",
            "msg_id": "",
            "outputs": [
              {
                "output_type": "display_data",
                "data": {
                  "text/plain": "<PIL.Image.Image image mode=RGB size=75x128>",
                  "image/png": "iVBORw0KGgoAAAANSUhEUgAAAEsAAACACAIAAADMAwPKAAAe+mVYSWZNTQAqAAAACAAIAAsAAgAAACYAAAh6AQAABAAAAAEAAAQ4AQEABAAAAAEAAAlgARIAAwAAAAEAAQAAATEAAgAAACYAAAigATIAAgAAABQAAAjGh2kABAAAAAEAAAja6hwABwAACAwAAABuAAARXhzqAAAACAAAAAAAAAAAAAAAAAAAAAAAAAAAAAAAAAAAAAAAAAAAAAAAAAAAAAAAAAAAAAAAAAAAAAAAAAAAAAAAAAAAAAAAAAAAAAAAAAAAAAAAAAAAAAAAAAAAAAAAAAAAAAAAAAAAAAAAAAAAAAAAAAAAAAAAAAAAAAAAAAAAAAAAAAAAAAAAAAAAAAAAAAAAAAAAAAAAAAAAAAAAAAAAAAAAAAAAAAAAAAAAAAAAAAAAAAAAAAAAAAAAAAAAAAAAAAAAAAAAAAAAAAAAAAAAAAAAAAAAAAAAAAAAAAAAAAAAAAAAAAAAAAAAAAAAAAAAAAAAAAAAAAAAAAAAAAAAAAAAAAAAAAAAAAAAAAAAAAAAAAAAAAAAAAAAAAAAAAAAAAAAAAAAAAAAAAAAAAAAAAAAAAAAAAAAAAAAAAAAAAAAAAAAAAAAAAAAAAAAAAAAAAAAAAAAAAAAAAAAAAAAAAAAAAAAAAAAAAAAAAAAAAAAAAAAAAAAAAAAAAAAAAAAAAAAAAAAAAAAAAAAAAAAAAAAAAAAAAAAAAAAAAAAAAAAAAAAAAAAAAAAAAAAAAAAAAAAAAAAAAAAAAAAAAAAAAAAAAAAAAAAAAAAAAAAAAAAAAAAAAAAAAAAAAAAAAAAAAAAAAAAAAAAAAAAAAAAAAAAAAAAAAAAAAAAAAAAAAAAAAAAAAAAAAAAAAAAAAAAAAAAAAAAAAAAAAAAAAAAAAAAAAAAAAAAAAAAAAAAAAAAAAAAAAAAAAAAAAAAAAAAAAAAAAAAAAAAAAAAAAAAAAAAAAAAAAAAAAAAAAAAAAAAAAAAAAAAAAAAAAAAAAAAAAAAAAAAAAAAAAAAAAAAAAAAAAAAAAAAAAAAAAAAAAAAAAAAAAAAAAAAAAAAAAAAAAAAAAAAAAAAAAAAAAAAAAAAAAAAAAAAAAAAAAAAAAAAAAAAAAAAAAAAAAAAAAAAAAAAAAAAAAAAAAAAAAAAAAAAAAAAAAAAAAAAAAAAAAAAAAAAAAAAAAAAAAAAAAAAAAAAAAAAAAAAAAAAAAAAAAAAAAAAAAAAAAAAAAAAAAAAAAAAAAAAAAAAAAAAAAAAAAAAAAAAAAAAAAAAAAAAAAAAAAAAAAAAAAAAAAAAAAAAAAAAAAAAAAAAAAAAAAAAAAAAAAAAAAAAAAAAAAAAAAAAAAAAAAAAAAAAAAAAAAAAAAAAAAAAAAAAAAAAAAAAAAAAAAAAAAAAAAAAAAAAAAAAAAAAAAAAAAAAAAAAAAAAAAAAAAAAAAAAAAAAAAAAAAAAAAAAAAAAAAAAAAAAAAAAAAAAAAAAAAAAAAAAAAAAAAAAAAAAAAAAAAAAAAAAAAAAAAAAAAAAAAAAAAAAAAAAAAAAAAAAAAAAAAAAAAAAAAAAAAAAAAAAAAAAAAAAAAAAAAAAAAAAAAAAAAAAAAAAAAAAAAAAAAAAAAAAAAAAAAAAAAAAAAAAAAAAAAAAAAAAAAAAAAAAAAAAAAAAAAAAAAAAAAAAAAAAAAAAAAAAAAAAAAAAAAAAAAAAAAAAAAAAAAAAAAAAAAAAAAAAAAAAAAAAAAAAAAAAAAAAAAAAAAAAAAAAAAAAAAAAAAAAAAAAAAAAAAAAAAAAAAAAAAAAAAAAAAAAAAAAAAAAAAAAAAAAAAAAAAAAAAAAAAAAAAAAAAAAAAAAAAAAAAAAAAAAAAAAAAAAAAAAAAAAAAAAAAAAAAAAAAAAAAAAAAAAAAAAAAAAAAAAAAAAAAAAAAAAAAAAAAAAAAAAAAAAAAAAAAAAAAAAAAAAAAAAAAAAAAAAAAAAAAAAAAAAAAAAAAAAAAAAAAAAAAAAAAAAAAAAAAAAAAAAAAAAAAAAAAAAAAAAAAAAAAAAAAAAAAAAAAAAAAAAAAAAAAAAAAAAAAAAAAAAAAAAAAAAAAAAAAAAAAAAAAAAAAAAAAAAAAAAAAAAAAAAAAAAAAAAAAAAAAAAAAAAAAAAAAAAAAAAAAAAAAAAAAAAAAAAAAAAAAAAAAAAAAAAAAAAAAAAAAAAAAAAAAAAAAAAAAAAAAAAAAAAAAAAAAAAAAAAAAAAAAAAAAAAAAAAAAAAAAAAAAAAAAAAAAAAAAAAAAAAAAAAAAAAAAAAAAAAAAAAAAAAAAAAAAAAAAAAAAAAAAAAAAAAAAAAAAAAAAAAAAAAAAAAAAAAAAAAAAAAAAAAAAAAAAAAAAAAAAAAAAAAAAAAAAAAAAAAAAAAAAAAAAAAAAAAAAAAAAAAAAAAAAAAAAAAAAAAAAAAAAAAAAAAAAAAAAAAAAAAAAAAAAAAAAAAAAAAAAAAAAAAAAAAAAAAAAAAAAAAAAAAAAAAAAAAAAAAAAAAAAAAAAAAAAAAAAAAAAAAAAAAAAAAAAAAAAAAAAAAAAAAAAAAAAAAAAAAAAAAAAAAAAAAAAAAAAAAAAAAAAAAAAAAAAAAAAAAAAAAAAAAAAAAAAAAAAAAAAAAAAAAAAAAAAAAAAAAAAAAAAAAAAAAAAAAAAAAAAAAAAAAAAAAAAAAAAAAAAAAAAAAAAAAAAAAAAAAAAAAAAAAAAAAAAAAAAAAAAAAAAAAAAAAAAAAAAAAAAAAAAAAAAAAAAAAAAAAAAAAAAAAAAAAAAAAAAAAAAAAAAAAAAAAAAAAAAAAAAAAAAAAAAAAAAAAAAAAAAAAAAAAAAAAAAAAAAAAAAAAAAAAAAAAAAAAAAAAAAAAAAAAAAAAAAAAAAAAAAAAAAAAAAAAAAAAAAAAAAAAV2luZG93cyBQaG90byBFZGl0b3IgMTAuMC4xMDAxMS4xNjM4NABXaW5kb3dzIFBob3RvIEVkaXRvciAxMC4wLjEwMDExLjE2Mzg0ADIwMjM6MDM6MjcgMTQ6NDc6MzkAAAaQAwACAAAAFAAAETSQBAACAAAAFAAAEUiSkQACAAAAAzAwAACSkgACAAAAAzAwAACgAQADAAAAAQABAADqHAAHAAAIDAAACSgAAAAAHOoAAAAIAAAAAAAAAAAAAAAAAAAAAAAAAAAAAAAAAAAAAAAAAAAAAAAAAAAAAAAAAAAAAAAAAAAAAAAAAAAAAAAAAAAAAAAAAAAAAAAAAAAAAAAAAAAAAAAAAAAAAAAAAAAAAAAAAAAAAAAAAAAAAAAAAAAAAAAAAAAAAAAAAAAAAAAAAAAAAAAAAAAAAAAAAAAAAAAAAAAAAAAAAAAAAAAAAAAAAAAAAAAAAAAAAAAAAAAAAAAAAAAAAAAAAAAAAAAAAAAAAAAAAAAAAAAAAAAAAAAAAAAAAAAAAAAAAAAAAAAAAAAAAAAAAAAAAAAAAAAAAAAAAAAAAAAAAAAAAAAAAAAAAAAAAAAAAAAAAAAAAAAAAAAAAAAAAAAAAAAAAAAAAAAAAAAAAAAAAAAAAAAAAAAAAAAAAAAAAAAAAAAAAAAAAAAAAAAAAAAAAAAAAAAAAAAAAAAAAAAAAAAAAAAAAAAAAAAAAAAAAAAAAAAAAAAAAAAAAAAAAAAAAAAAAAAAAAAAAAAAAAAAAAAAAAAAAAAAAAAAAAAAAAAAAAAAAAAAAAAAAAAAAAAAAAAAAAAAAAAAAAAAAAAAAAAAAAAAAAAAAAAAAAAAAAAAAAAAAAAAAAAAAAAAAAAAAAAAAAAAAAAAAAAAAAAAAAAAAAAAAAAAAAAAAAAAAAAAAAAAAAAAAAAAAAAAAAAAAAAAAAAAAAAAAAAAAAAAAAAAAAAAAAAAAAAAAAAAAAAAAAAAAAAAAAAAAAAAAAAAAAAAAAAAAAAAAAAAAAAAAAAAAAAAAAAAAAAAAAAAAAAAAAAAAAAAAAAAAAAAAAAAAAAAAAAAAAAAAAAAAAAAAAAAAAAAAAAAAAAAAAAAAAAAAAAAAAAAAAAAAAAAAAAAAAAAAAAAAAAAAAAAAAAAAAAAAAAAAAAAAAAAAAAAAAAAAAAAAAAAAAAAAAAAAAAAAAAAAAAAAAAAAAAAAAAAAAAAAAAAAAAAAAAAAAAAAAAAAAAAAAAAAAAAAAAAAAAAAAAAAAAAAAAAAAAAAAAAAAAAAAAAAAAAAAAAAAAAAAAAAAAAAAAAAAAAAAAAAAAAAAAAAAAAAAAAAAAAAAAAAAAAAAAAAAAAAAAAAAAAAAAAAAAAAAAAAAAAAAAAAAAAAAAAAAAAAAAAAAAAAAAAAAAAAAAAAAAAAAAAAAAAAAAAAAAAAAAAAAAAAAAAAAAAAAAAAAAAAAAAAAAAAAAAAAAAAAAAAAAAAAAAAAAAAAAAAAAAAAAAAAAAAAAAAAAAAAAAAAAAAAAAAAAAAAAAAAAAAAAAAAAAAAAAAAAAAAAAAAAAAAAAAAAAAAAAAAAAAAAAAAAAAAAAAAAAAAAAAAAAAAAAAAAAAAAAAAAAAAAAAAAAAAAAAAAAAAAAAAAAAAAAAAAAAAAAAAAAAAAAAAAAAAAAAAAAAAAAAAAAAAAAAAAAAAAAAAAAAAAAAAAAAAAAAAAAAAAAAAAAAAAAAAAAAAAAAAAAAAAAAAAAAAAAAAAAAAAAAAAAAAAAAAAAAAAAAAAAAAAAAAAAAAAAAAAAAAAAAAAAAAAAAAAAAAAAAAAAAAAAAAAAAAAAAAAAAAAAAAAAAAAAAAAAAAAAAAAAAAAAAAAAAAAAAAAAAAAAAAAAAAAAAAAAAAAAAAAAAAAAAAAAAAAAAAAAAAAAAAAAAAAAAAAAAAAAAAAAAAAAAAAAAAAAAAAAAAAAAAAAAAAAAAAAAAAAAAAAAAAAAAAAAAAAAAAAAAAAAAAAAAAAAAAAAAAAAAAAAAAAAAAAAAAAAAAAAAAAAAAAAAAAAAAAAAAAAAAAAAAAAAAAAAAAAAAAAAAAAAAAAAAAAAAAAAAAAAAAAAAAAAAAAAAAAAAAAAAAAAAAAAAAAAAAAAAAAAAAAAAAAAAAAAAAAAAAAAAAAAAAAAAAAAAAAAAAAAAAAAAAAAAAAAAAAAAAAAAAAAAAAAAAAAAAAAAAAAAAAAAAAAAAAAAAAAAAAAAAAAAAAAAAAAAAAAAAAAAAAAAAAAAAAAAAAAAAAAAAAAAAAAAAAAAAAAAAAAAAAAAAAAAAAAAAAAAAAAAAAAAAAAAAAAAAAAAAAAAAAAAAAAAAAAAAAAAAAAAAAAAAAAAAAAAAAAAAAAAAAAAAAAAAAAAAAAAAAAAAAAAAAAAAAAAAAAAAAAAAAAAAAAAAAAAAAAAAAAAAAAAAAAAAAAAAAAAAAAAAAAAAAAAAAAAAAAAAAAAAAAAAAAAAAAAAAAAAAAAAAAAAAAAAAAAAAAAAAAAAAAAAAAAAAAAAAAAAAAAAAAAAAAAAAAAAAAAAAAAAAAAAAAAAAAAAAAAAAAAAAAAAAAAAAAAAAAAAAAAAAAAAAAAAAAAAAAAAAAAAAAAAAAAAAAAAAAAAAAAAAAAAAAAAAAAAAAAAAAAAAAAAAAAAAAAAAAAAAAAAAAAAAAAAAAAAAAAAAAAAAAAAAAAAAAAAAAAAAAAAAAAAAAAAAAAAAAAAAAAAAAAAAAAAAAAAAAAAAAAAAAAAAAAAAAAAAAAAAAAAAAAAAAAAAAAAAAAAAAAAAAAAAAAAAAAAAAAAAAAAAAAAAAAAAAAAAAAAAAAAAAAAAAAAAAAAAAAAAAAAAAAAAAAAAAAAAAAAAAAAAAAAAAAAAAAAAAAAAAAAAAAAAAAAAAAAAAAAAAAAAAAAAAAAAAAAAAAAAAAAAAAAAAAAAAAAAAAAAAAAAAAAAAAAAAAAAAAAAAAAAAAAAAAyMDIzOjAzOjI3IDE0OjQyOjA0ADIwMjM6MDM6MjcgMTQ6NDI6MDQAAAAABgEDAAMAAAABAAYAAAEaAAUAAAABAAARrAEbAAUAAAABAAARtAEoAAMAAAABAAIAAAIBAAQAAAABAAARvAICAAQAAAABAAANPgAAAAAAAABgAAAAAQAAAGAAAAAB/9j/2wBDAAgGBgcGBQgHBwcJCQgKDBQNDAsLDBkSEw8UHRofHh0aHBwgJC4nICIsIxwcKDcpLDAxNDQ0Hyc5PTgyPC4zNDL/2wBDAQkJCQwLDBgNDRgyIRwhMjIyMjIyMjIyMjIyMjIyMjIyMjIyMjIyMjIyMjIyMjIyMjIyMjIyMjIyMjIyMjIyMjL/wAARCAEAAJcDASEAAhEBAxEB/8QAHwAAAQUBAQEBAQEAAAAAAAAAAAECAwQFBgcICQoL/8QAtRAAAgEDAwIEAwUFBAQAAAF9AQIDAAQRBRIhMUEGE1FhByJxFDKBkaEII0KxwRVS0fAkM2JyggkKFhcYGRolJicoKSo0NTY3ODk6Q0RFRkdISUpTVFVWV1hZWmNkZWZnaGlqc3R1dnd4eXqDhIWGh4iJipKTlJWWl5iZmqKjpKWmp6ipqrKztLW2t7i5usLDxMXGx8jJytLT1NXW19jZ2uHi4+Tl5ufo6erx8vP09fb3+Pn6/8QAHwEAAwEBAQEBAQEBAQAAAAAAAAECAwQFBgcICQoL/8QAtREAAgECBAQDBAcFBAQAAQJ3AAECAxEEBSExBhJBUQdhcRMiMoEIFEKRobHBCSMzUvAVYnLRChYkNOEl8RcYGRomJygpKjU2Nzg5OkNERUZHSElKU1RVVldYWVpjZGVmZ2hpanN0dXZ3eHl6goOEhYaHiImKkpOUlZaXmJmaoqOkpaanqKmqsrO0tba3uLm6wsPExcbHyMnK0tPU1dbX2Nna4uPk5ebn6Onq8vP09fb3+Pn6/9oADAMBAAIRAxEAPwDwWigAooAKWgApaACigBaKACigAooAKKACigCOloAKKACigBaKAFooAKWgAooAKKACigAooAjpaACigAooAKWgApaACigBaSgBaKACigAooAjooAWigAooAKWgApaACigAooAKKACloAKKAIqWgBaKACigAooAWigBaKACigAooAKKACigCOloAKWgAooAKKAFooAKKACloAKKACigAooAjpaACloAKKACigApaACigApaACigAooAKKAI6KAFooAWigAooAKKAFooAKKACigBaKACigCOigApaAFooAKKACigApaACigAooAKWgAooAjooAKWgBaKACigAooAKWgAooAKKACigAooAZRQAUtABS0AFFABRQAUUAFFAC0UAFFABRQBHS0AFLQAUUALRQAUUAFFABRQAUUALRQAlFADKWgAooAWigBaKACigAooAKKACigAooAKKAGUtABRQAUtABS0AFFABRQAUUAFFABRQAUUAMooAWigApaACigBaKACigAooAKKACigAooAZRQAtFABRQAtFABS0AFFABRQAUUAFFABRQAyigApaACigAooAWigAooAWigAooASloASigBtFABRQAtFABRQAtFABRQAUUAFFABRQAUUANooAKKAFooAKKACloAKKACigAooAKKACigBtFABRQAUtABRQAUUAFFABRQAUUAFFABRQAlFABRQAUUALRQAUUAFFABRQAUUAFFABRQAlFABRQAUUALRQAVJ5E3kef5T+VnHmbTtz6ZoAjooAKKACigAooAKKAEooAKKACigArV1rT7WwNuLU3RJUrMLiMIVkB+ZcDOMZwRknv3wADb+F+hWXiP4i6TpuoqHtHd5JIyceZsRnC/QlefbNfWzFRfJoy6bbnTjB83K7VHIC+Xjpx/9agD5J+KGhWXhz4i6tpunKEtEdJI4wc+XvRX2/QFjj2xXM2Fl9vnMX2q2t8AENcPsUkkDGfXn6YBJ6UAVu+KKACigDp/B/gqfxcupTLfQWdtpsPn3Ekuc7cE8dF6KerD+dcwcZOCSM8ZFACUUAFFABRQAUUAFSSzyzlTLK8m1dq72JwPQe1AFrR9WvdB1e11TT5TFd20gkjfHf0PqCMgj0Ne1f8NKXP8AZ23/AIRqL7d5ePN+1Hy9+Ou3bnGe278e9AHiusate69q91qmoSmW7uZC8j+/oPQAYAHoKo0AFFAC0lAChiOhI+hpKACigBuTRk0AGTRk0AGTRk0AGTRk0AOQF3C7lXPdjgCrH2M/8/Vt/wB/KAKzgo5XcrYOMqcg0mTQAZNGTQAZNGTQAZNGTQAZNFACVoW2ialeWBvba1aaEOyfuyCxK7c4XO4gb15xj5hQA8eHdcYqBo2okswUAWr8k9B060f8I5rm8p/Y2o7lGSPsr5A9ensfyoAj1DRNU0oA39hcW6nb80kZAyyhgM+uCDjrVa1tZ767itbaMyTzMEjQHlmPQD3oA05PCmvRKzNpdwVWISkqu75S2wdO+44x1GDxwaz7vTr7TyovbK4tt+dvnRMm7HXGR7j86ACxsLnUZzDaxh5ANxBYLxkDufUipW0XU1kWM2M+W2kEIcfN056c1oqU2rpGUq1OMuVuzKs1vPbsqzwyRFl3KHUrkeoz2q5p2iahq0VzJYweatsm+X51XAwTwCRk4U8DJ4qGmnZmiaauiZfC+vuZANGvw0YyVa3YH7yrgAjJOZE4HPzCojoOrLYzXr6fOlvCm93kTaAu5Vzz1+Z1HHr9aQyjFG80qRRjLuwVR6k9K27zwV4ksDH9o0e5XfvwVXeAEbaxJGcAEdTxjnpQBnX+j6jpaxtfWctuJGZU8xcElcE8fRlP41FaWVzfzGK1haV1QuQOwHU0AK+n3UcccjRYWTG07hzkZooArda07HX9T061Fra3ASAOz7DEjBtwAYHIOVIVcqeDgZFAGhH478SxSSSJqX7yQozyGCMuzITtJYrkkZIz1xx0AFRR+NPEMVnLaJqTCCVWR08tDkNuyOnGd7Zx7egwAQan4o1jWbd4NQvPOjeYTtmJFLOF2gkgA9Dj8vSsy3uJbW5iuIJGjmicPG6nBVgcgj8aAN2Lxz4khOU1Ns7y+WiRiCZDI3VehckkdDwDkAAUNV17U9cMZ1G6M5jLFcoq8nGScAZOFUZPZQOgFAFKC5mtvM8mRkMibGK9SuQcfoKujXtTESR/acom3aDGpxtO4dR6/n3q41Jx0TMp0YTd5Iq3d9c3zo9zJvZF2L8oGBknt7knPcmlt9Qu7S2uLe3neOK42+aqnG/bnGfzNTKTk7suMVFWRrP418QSXBna/wDnKlOIIwACUJwNuBzGh47j3NRXfi3W7+y+x3N7vt/IFvs8lAPLDK2OF67kU568deTSKMeOR4ZUljO10YMp9COldRD8RPEcdq9tPdpdxG3kgjFxGG8kP1ZcY+YdATnAJAoAw7/WL/VI4o7yfzViOUyigj5VXqBnoi/l7mobO9uLCfzraTy5MYzgHI+h464PsQD2oAWTULuVAkk7uAMDccnrnrRQBWooAKKACigAooAKl+zXG3d5EmPXYaAIqKACigAooAKKACigAooAKu2+lXlzCZkhfywMltp6ev0460a7IunDndr2Jv7A1JrczxWsksaxmViinhAcFvpkH8qzKGrOzFKPKFORGkkVFGWY4AoJPavhl8IP7ftV1TUpHg08khCgHmTkcHBP3VB74OcH6165/wAKj8F/ZvJ/sp92Meb9pk3fX72P0oA8g+J3whPh62bVNOkefT8hWZwPMhJ4G7HDKT34649z4w6NG7IwwynBFADaKALtvpdxOgf5UU9N3U02506e2XewDJ3K9qAKlFABRQAUUAS20JuLqGAEAyOqAn3OK9Pjis7nUHaKNUVGBRR90Bl+6PYKwA49K6KLioyb3/4cznJqUYrqyHT5Jp7uaWGee2jZlVfKcJuVmyq4BBwAM/Qfnw/ifTo9J8SX1lCQY4n+XHTBAOP1rkp25bnp45RXLyroZNaGjIH1Bc9lJH8v61ZwH3Np9lDpunW1jbjENtEsUYP91RgfyqzQBU1Swh1TSbzT7j/U3MLxOfQMMZr4Z1dAt+SP4lBNAFGp7ONZbyJG+6W5oA9C04wado39qmzgvJzdeQqXClo4wFDElc8ls4GePlbvyK+oWtu+h2N+saxyTyTQyxjo+zYd4HYHzMY6fLx6AA4CRQkrqOQrEU2gAooAKKAAHByO1epeHfEPh668Ox208sNnrPn/ADvPlYym3AAIyOWwecYxitIyfK4LqTyrnjN9ChqOrWmhMPsl5aSo6ozxWsxkMjrk5z/D8x6ZHHboK4G6uZby6muZ2LyyuXdj3JOTWaVkkdeJrxqP3VoiKrFlP9nu0kP3ejfSg5j7B+GvjS18U+HbeF51/tO1jVJ42bLOBwJB6g9/Q/hXbUAcL8T/ABnaeGvDdzapOp1K8iaOKNWw0akYMh9ABnHqfxx8g3k/2i6eQfdJwv0oAgpyOY3V1OGU5FAHUabr/lL+7nWPLK7wyYKOVORlTwwz6+p9aNc8TTahM0886zT42oEUKkY5OAqgKBkk4A6knvQBytFABRQAUUAFFABRQAUUAaOma3e6VMkttNIjRnKMjlWT6MORXaH4zeLTafZ/7Yutu3bnCbv++8bs++aAOK1LWbzVJnluJndnOXZ3LM59yeTWfQAUUAFFABRQAUUAf//ZDnX0kwAADl9JREFUeJztXc1vFEcWr6runq+ewWN7xsZfmDGOzUKMgYWgVRQJhQ9FixZHSoQ2/0AOOSQSKH9CLjnlFJFLzhtpRSTYTSI5MhG7aBc2QHCiAAvxEI/xjMdj8MzYbc9Hd++hTbuoqq6u7hlPkhW/U7u76n3Vq/deve4BqCgKhNA0TQAAhBCIwRrJn2WP4ZMVHGaBP8ySx6JpXyNXonzgtMBTcUVUIsRymoITB89a1jRN5lMCCKdCz3GCPdIyKjHLfsQUlFCJrxuTuKAdN6AoCvHAVT17JO4VzAGCpMSn0F7qeucZL/UhE8A8h3ABfJ290nSaQkvIlBmfjogH4tLgvm0zo/lxlKQdlXYKwnC0HZnEHdcQsPxeBPwQx9QcOOw0TvCwuPCp0ZIwYqk/X2VaF3/EmSjOGudC5waai2mapIY+FhAHP1nRjs3kjutgrwmxF3CV+AHvmWzBZ98gmGmQA6dsgRN0jasAAJlDnRbLFZwNSSygIGWm4/EHECyQuIUEwV8cnLdvZ3GqGemgBSFEwNmcW+qujRDn72fiJnJ64AOua87UrUG+nEwD7FjqZAkfm1BQgtbENguIw8NTiWNDcCVtFk6VULPUdjk9NZ79PVHgF4DEGMFHZF3qJK4PKTkErQui+ARi5uCXh/RNl5rGxzowmXHMZDsqUdC4ThREo2d8JxAVCefYAbhq+NsmOLZKQwtOwVOkwmbeEVlPx3xI8KYrd6/gFKL8ypsWgKbGoeNyeqJNJW48J/YiugkSIaQX8WGGlxK0+CWSIJjnAKeRTkREBGC0OSRJcqJLF7WN73vovTdrD/YnAPuMTxeQvn3VSUpPC8LP8nzZoCyzj4hAYGF9oJHpuI2IbORE2aS7GEDMco0Ar+kEYetGLJfr2kIIEc1MMOf409+H50PWiwNAhQl61sYZ3/cRyZ+/2cnNlsC1zsSrIuJcwpxOrLBjFwM8NZ7TcjW4hswqlIBhGPhE5prTN4lw7RhmaFrE/UZihmDc56wPPganRkcgWYQl08td5eOjcTPhdOhrC5udKD6nLQqq4Fkfa4QL4e0m1jpAwNnFPREVB98jmmJNPILw3q7xS0Rm6SMCOlQ0y2OZLDY0FD+b0MI1sVglarqmrCfytw62ZE0xPK4evaMaJM47W2wOauCpC3vW8Zp5zvLNZbNf6uQYrmVqgzGQZkQ8sjzFR2lpYfO9BfMEyK/9cH6+9eQka5ysj9O9hY1s4TSBU7URzHx7EeGEtCs53eEIjN95pqvvr4NAlJr+4LRWHBa4MvZK4MHPeureTcQncIK4yfp0yAdMhzcZNF88IdNTbMd015C2rlMAbEpuBCwLcooe3OjMqME7W9Bgnj63AiKRUzC6Or63oCfw00kTqxAREP7CsTj57gn3bOYEpzNbgxHVBwSt6e0tt0hEbSLE7cXkzog0dFkoSMvTAHE0SIqRLUSyqutZ2bXKazEce96umjjFJH7ubj3IbOEqFr3OvxJNnNCEr77owP2rWkbee3xB+SD3A1HmnVZiU0M8Qgg2Kjnj7UfNKuV8g50P+ZWhPYYu5Jlo5PTYOBr6UoFwaU9qtExnnoYi6RHPGfyuOXH4apnrOmpod0cEBeKvoWsAa7Ae5IxxPD15tbSg1zEdm19gEIdDTlRjBj8P+5BvZvtQIqIq3j5zmmhiwLkQN22C9J+MutRJK09+4iQELT1xk266AZb+dM/KHk/csa7ZXkq09ASVdJKYD1w+T71ZWkj6DnBaQ9oHXGtxpsR8cZkcaV/FxeBQcAp1G119V9g29lqj4FviFyluRCMNvQ08TcQ7f56mewUtnodY6mMFiCZVC+oYmoW3bOFVSn7F05rCzVu/FHhfSToL437rb396igWeK2+R5OHUHSeuPQVb4CUW4NWCkIa4xCJnCI7ozDwEKOUJKflcmALblEWzhT2Tpt7EHEBrK3jO5sjgzUuZFhUPGLgvAMo0CJGfETYlwXh4u2b/SdeNFrx6L7N8oQnyN7MTd9tYHt6u2SCyHFM4QdD6EKQ4VqMFAFRKE400NF1cskb2oUgUwVeSE8OcQqA3DYmzTHPrTD41jkPyt6u3qo2pmEiGFIFvCpxYCq1vE71KwEkVrSnEaHC83Wc3kdiH+Onxl1LSCT41JOIYx1GbpTAztYig+b9dI2Jas6IRs9dEoAmxlEOUr1WzohHNCwddG/jfh4JCEPmXU1h6ui/YXPVTeXuFnamICxp8K/BrayeC1hTPJ2AbzBqCjqj4ha7r9jDcsrQCROL1t5ktsj41dCqRmLsRQqjruqIop06d2rdvXzabvXjx4uLiIvNHZba2zA4q8zDFKbBM0wRSs4EQghAihKw/ZVmWJCkUCn3yySf2trx27drAwABCSJZla4A1EaeDP7Lp2Bf4I9sdmE+bHGlM0wyHwxMTEyMjI7ZP6rp+8uTJt99+u16v37hxY25u7qWXXjp37pz1ox972WVZ5rslUX/aYxBCqVRqbGzMegrBxuJD+ouhpmhomqZhGMQ+PHLkCACgWq1mMplisQgAOHz4MMTeNEiS9Oabbx49etSyi73adsHklPEt801NTY2Pj2/MBc/UIf4jjRNUVR0YGJibm8Nvzs7OWhc9PT3JZBIAMD8/b2JNdMMwvvzySwAAQhsfZtM7jQkIYTabnZqaunXrFn5zc6mlZmcLhFAsFtM0rVarWXcMw0gmk1999dWBAwesO8vLyxMTE1euXJFl2RbFclqEEAQAAAiergZ+pmGqarkMTmpT1S3Kh4Zh4LU4AEDX9VQqde7cuf3792ez2Y8//vjy5ctM1pZmAEIAvXUZ2VvX3LKMDwEgpLM2STgcXl9ftzae00RgAgDJ6T4E2LjYOg0BpSQePBhTcCeEED67OHxHpYEANIFpAgCtnf0cv2G06JWloih9fX24cy4sLGia1gLWLdIQQhgKhXANK5WKXfQ8x3NwQXrpvn37njx5srS0VK/XZVmu1WrBYBAhtLa2ZhX78Xi8WCyurq7aPhaJRPr6+trb22dnZzs7O9PptGEYuq7bNQ0AIDZyUIpsqz3Orc3/JIejSAnWV8t6RTOfJpTOzs4DBw7cvn27XC6Hw+FYLPb48WMIYU9Pj6ZpeA24d+9ehJCmablcbvfu3XNzc4ZhLC4u2gO2b99eLpcjkYhhGKVSSVYUxRZFluU9e/YMDg6aphkKhebn59va2uLxeKVSCYVCqqo+evQomUxWq9XPPvvshx9+sIm+9dZbCCFd1xOJhCRJuVxuenr64sWL9oCOI39UonF9XTPWVqSQagJDXy3nr/x1fWGjXk2lUq+//vr+/fsDgcDa2lp7e3s+nx8eHi4UCoVC4fz58zapM2fOvPDCCxb34eHhfD5/9erVS5cubawYhCdPnszlcgihUqk0MzMj4/9uga7r6XT64cOHHR0dlp26urqmp6fX1tY6OzstU6mqGo1G8TCoadrXX39dqVR6enoQQgihSqWSy+Vw13jyr7+tLz4K9w4pbQlTr5l6HSphXSvbA+bn5z/88MNYLDY8PJxOp9vb2+v1eqlUymQyKysrOKnPP/+8t7dXkqSXX355cnIym83m83n7qWmaN2/erNVq1Wq1UqkQc39jsM4oz/Ecz/EcvwK0qC4Nh8PRaDQQCFgfXFSrVU3TWhPKt1xDSZKSyWRbW9vg4ODo6GgikSiXy/fv33/w4EGxWMzn89VqdatlEIUCQBsAMQjEmwIIoYGBgSNHjpw/fz6Xy9k9wmKxeOHChRMnTgwNDQWDQXEZZFkOBoOe+hKia/gHSRmA0k+hpCGr4dBauq7nlh65NhS6u7sHBwc/+OCD48eP00/v3Llz9uzZH3/8MZPJuJIKhULd3d2RSMR6R7C8vFwoFETOX+4aIoR+P7r7RWVbSe35vty3J7EyFMyOHhz+y+Wrl//9HV+mHTt2vPfee++8847TmMnJyffffz+dTpdKJQ6pcDicSqVkWdZ1XZIkwzAkSSoWi7Ozs3jVyYR7R7g72d/f9+frajGRXTn1YiW88HMxXcz+vNLbsX3btniptOw0UVXVvr6+N954g0P81VdfHRsbW1xc5GhonTBkWY5EIq+99lq1Wp2enp6fn4/H4ysrK4VCgS+/exuqp70/sGNsuas/mhrtCCzV0/ltK0qf3Ll3YGx0ZJwzMRAIjIyMdHd3c8ZIknTo0CFFUThbKxgMqqpqGMbx48dnZma++eab/v7+gwcP1mq1eDzu+uLNXcOBZPt/pe/Wlr5XO6R6uVLU649D+UDCjAz0jY7+jjMRQphIJFzpJxIJp/6iBUVRTNOMRqMIoRs3biwtLd29ezeZTFrvqlx7he5eOlc0Mk8KECooN1OqaGtoeWdiFAS3o+BiqZzmTDRNk7+7LJRKJfxNOI16vQ4hXF1dNU1z165dpVJpfHy8UChY52zXfei+hvdm78TCvceOTgzt6EwEowM9w+H1kKYrlbknt67+hzOxVqvdu3dveXmZM8Y0zVu3btXrdU5UXF9f1zQNQjg1NQUhPH36NADg+vXrsixb1uHL767havHnyIN/nn1lKDWkVldqr0S7Foqrk3N3L9y+kVl6zJmoadrs7OwXX3zBGfPtt9/evHmT31Y0TTOXy+m6Xi6XZ2ZmPv3008nJSQhhuVxeWlpylV8oHwZl+fSfJvp2HR5sT0a14vTDn/7+j8l05r6r/Xp7e0dGRj766KPxcUZMWlhYePfdd69fv57JZFwzm6qqXV1dqqra+TCfz9frdRH5RQHlaKJ7sLd/x7ZtbYJTFEXZuXPnsWPHLl26ZL2QsV+hXrt27cyZM8PDw5FIRFQACBVFCYVCnH9VljFLfKg/BAKB7u7ueDw+NjZ26NAhqy69ffu2FRXz+fxWd75bcbaAEMZiMVVV7f/FTtd1TdNKpVIL2t4t/amV9ZmG5aWt5Pt/jv8BzT9zM8edzb8AAAAASUVORK5CYII=\n"
                },
                "metadata": {}
              }
            ]
          }
        },
        "9725aa4cfdab450fa5865d421cae9537": {
          "model_module": "@jupyter-widgets/controls",
          "model_name": "LabelModel",
          "model_module_version": "1.5.0",
          "state": {
            "_dom_classes": [],
            "_model_module": "@jupyter-widgets/controls",
            "_model_module_version": "1.5.0",
            "_model_name": "LabelModel",
            "_view_count": null,
            "_view_module": "@jupyter-widgets/controls",
            "_view_module_version": "1.5.0",
            "_view_name": "LabelView",
            "description": "",
            "description_tooltip": null,
            "layout": "IPY_MODEL_8504c9de50d14c7bb6322ceaeec1c958",
            "placeholder": "​",
            "style": "IPY_MODEL_e22f8b09bdb644319bdf4f425d149d27",
            "value": "Prediction: teddy; Probability: 0.8306"
          }
        },
        "31616192d41d47d5a3a5049740c10ac6": {
          "model_module": "@jupyter-widgets/base",
          "model_name": "LayoutModel",
          "model_module_version": "1.2.0",
          "state": {
            "_model_module": "@jupyter-widgets/base",
            "_model_module_version": "1.2.0",
            "_model_name": "LayoutModel",
            "_view_count": null,
            "_view_module": "@jupyter-widgets/base",
            "_view_module_version": "1.2.0",
            "_view_name": "LayoutView",
            "align_content": null,
            "align_items": null,
            "align_self": null,
            "border": null,
            "bottom": null,
            "display": null,
            "flex": null,
            "flex_flow": null,
            "grid_area": null,
            "grid_auto_columns": null,
            "grid_auto_flow": null,
            "grid_auto_rows": null,
            "grid_column": null,
            "grid_gap": null,
            "grid_row": null,
            "grid_template_areas": null,
            "grid_template_columns": null,
            "grid_template_rows": null,
            "height": null,
            "justify_content": null,
            "justify_items": null,
            "left": null,
            "margin": null,
            "max_height": null,
            "max_width": null,
            "min_height": null,
            "min_width": null,
            "object_fit": null,
            "object_position": null,
            "order": null,
            "overflow": null,
            "overflow_x": null,
            "overflow_y": null,
            "padding": null,
            "right": null,
            "top": null,
            "visibility": null,
            "width": null
          }
        },
        "dc2a9c80f2e34ce5a1e5340bf7eacd90": {
          "model_module": "@jupyter-widgets/base",
          "model_name": "LayoutModel",
          "model_module_version": "1.2.0",
          "state": {
            "_model_module": "@jupyter-widgets/base",
            "_model_module_version": "1.2.0",
            "_model_name": "LayoutModel",
            "_view_count": null,
            "_view_module": "@jupyter-widgets/base",
            "_view_module_version": "1.2.0",
            "_view_name": "LayoutView",
            "align_content": null,
            "align_items": null,
            "align_self": null,
            "border": null,
            "bottom": null,
            "display": null,
            "flex": null,
            "flex_flow": null,
            "grid_area": null,
            "grid_auto_columns": null,
            "grid_auto_flow": null,
            "grid_auto_rows": null,
            "grid_column": null,
            "grid_gap": null,
            "grid_row": null,
            "grid_template_areas": null,
            "grid_template_columns": null,
            "grid_template_rows": null,
            "height": null,
            "justify_content": null,
            "justify_items": null,
            "left": null,
            "margin": null,
            "max_height": null,
            "max_width": null,
            "min_height": null,
            "min_width": null,
            "object_fit": null,
            "object_position": null,
            "order": null,
            "overflow": null,
            "overflow_x": null,
            "overflow_y": null,
            "padding": null,
            "right": null,
            "top": null,
            "visibility": null,
            "width": null
          }
        },
        "fcd03b94b32242ee8d6db150b8925680": {
          "model_module": "@jupyter-widgets/controls",
          "model_name": "DescriptionStyleModel",
          "model_module_version": "1.5.0",
          "state": {
            "_model_module": "@jupyter-widgets/controls",
            "_model_module_version": "1.5.0",
            "_model_name": "DescriptionStyleModel",
            "_view_count": null,
            "_view_module": "@jupyter-widgets/base",
            "_view_module_version": "1.2.0",
            "_view_name": "StyleView",
            "description_width": ""
          }
        },
        "5319dd4e39464e9a83618d109a7bb804": {
          "model_module": "@jupyter-widgets/base",
          "model_name": "LayoutModel",
          "model_module_version": "1.2.0",
          "state": {
            "_model_module": "@jupyter-widgets/base",
            "_model_module_version": "1.2.0",
            "_model_name": "LayoutModel",
            "_view_count": null,
            "_view_module": "@jupyter-widgets/base",
            "_view_module_version": "1.2.0",
            "_view_name": "LayoutView",
            "align_content": null,
            "align_items": null,
            "align_self": null,
            "border": null,
            "bottom": null,
            "display": null,
            "flex": null,
            "flex_flow": null,
            "grid_area": null,
            "grid_auto_columns": null,
            "grid_auto_flow": null,
            "grid_auto_rows": null,
            "grid_column": null,
            "grid_gap": null,
            "grid_row": null,
            "grid_template_areas": null,
            "grid_template_columns": null,
            "grid_template_rows": null,
            "height": null,
            "justify_content": null,
            "justify_items": null,
            "left": null,
            "margin": null,
            "max_height": null,
            "max_width": null,
            "min_height": null,
            "min_width": null,
            "object_fit": null,
            "object_position": null,
            "order": null,
            "overflow": null,
            "overflow_x": null,
            "overflow_y": null,
            "padding": null,
            "right": null,
            "top": null,
            "visibility": null,
            "width": null
          }
        },
        "f24eeb44943744c3a256234533d420a4": {
          "model_module": "@jupyter-widgets/controls",
          "model_name": "ButtonStyleModel",
          "model_module_version": "1.5.0",
          "state": {
            "_model_module": "@jupyter-widgets/controls",
            "_model_module_version": "1.5.0",
            "_model_name": "ButtonStyleModel",
            "_view_count": null,
            "_view_module": "@jupyter-widgets/base",
            "_view_module_version": "1.2.0",
            "_view_name": "StyleView",
            "button_color": null,
            "font_weight": ""
          }
        },
        "8504c9de50d14c7bb6322ceaeec1c958": {
          "model_module": "@jupyter-widgets/base",
          "model_name": "LayoutModel",
          "model_module_version": "1.2.0",
          "state": {
            "_model_module": "@jupyter-widgets/base",
            "_model_module_version": "1.2.0",
            "_model_name": "LayoutModel",
            "_view_count": null,
            "_view_module": "@jupyter-widgets/base",
            "_view_module_version": "1.2.0",
            "_view_name": "LayoutView",
            "align_content": null,
            "align_items": null,
            "align_self": null,
            "border": null,
            "bottom": null,
            "display": null,
            "flex": null,
            "flex_flow": null,
            "grid_area": null,
            "grid_auto_columns": null,
            "grid_auto_flow": null,
            "grid_auto_rows": null,
            "grid_column": null,
            "grid_gap": null,
            "grid_row": null,
            "grid_template_areas": null,
            "grid_template_columns": null,
            "grid_template_rows": null,
            "height": null,
            "justify_content": null,
            "justify_items": null,
            "left": null,
            "margin": null,
            "max_height": null,
            "max_width": null,
            "min_height": null,
            "min_width": null,
            "object_fit": null,
            "object_position": null,
            "order": null,
            "overflow": null,
            "overflow_x": null,
            "overflow_y": null,
            "padding": null,
            "right": null,
            "top": null,
            "visibility": null,
            "width": null
          }
        },
        "e22f8b09bdb644319bdf4f425d149d27": {
          "model_module": "@jupyter-widgets/controls",
          "model_name": "DescriptionStyleModel",
          "model_module_version": "1.5.0",
          "state": {
            "_model_module": "@jupyter-widgets/controls",
            "_model_module_version": "1.5.0",
            "_model_name": "DescriptionStyleModel",
            "_view_count": null,
            "_view_module": "@jupyter-widgets/base",
            "_view_module_version": "1.2.0",
            "_view_name": "StyleView",
            "description_width": ""
          }
        },
        "8b12d59493ac4878bc9696539b004e0f": {
          "model_module": "@jupyter-widgets/base",
          "model_name": "LayoutModel",
          "model_module_version": "1.2.0",
          "state": {
            "_model_module": "@jupyter-widgets/base",
            "_model_module_version": "1.2.0",
            "_model_name": "LayoutModel",
            "_view_count": null,
            "_view_module": "@jupyter-widgets/base",
            "_view_module_version": "1.2.0",
            "_view_name": "LayoutView",
            "align_content": null,
            "align_items": null,
            "align_self": null,
            "border": null,
            "bottom": null,
            "display": null,
            "flex": null,
            "flex_flow": null,
            "grid_area": null,
            "grid_auto_columns": null,
            "grid_auto_flow": null,
            "grid_auto_rows": null,
            "grid_column": null,
            "grid_gap": null,
            "grid_row": null,
            "grid_template_areas": null,
            "grid_template_columns": null,
            "grid_template_rows": null,
            "height": null,
            "justify_content": null,
            "justify_items": null,
            "left": null,
            "margin": null,
            "max_height": null,
            "max_width": null,
            "min_height": null,
            "min_width": null,
            "object_fit": null,
            "object_position": null,
            "order": null,
            "overflow": null,
            "overflow_x": null,
            "overflow_y": null,
            "padding": null,
            "right": null,
            "top": null,
            "visibility": null,
            "width": null
          }
        }
      }
    }
  },
  "cells": [
    {
      "cell_type": "code",
      "execution_count": 1,
      "metadata": {
        "colab": {
          "base_uri": "https://localhost:8080/"
        },
        "id": "t1Jg0nRUezIa",
        "outputId": "48a29b68-3655-41ce-eba9-abd9f689af27"
      },
      "outputs": [
        {
          "output_type": "stream",
          "name": "stdout",
          "text": [
            "\u001b[2K     \u001b[90m━━━━━━━━━━━━━━━━━━━━━━━━━━━━━━━━━━━━━━\u001b[0m \u001b[32m719.8/719.8 kB\u001b[0m \u001b[31m15.8 MB/s\u001b[0m eta \u001b[36m0:00:00\u001b[0m\n",
            "\u001b[2K     \u001b[90m━━━━━━━━━━━━━━━━━━━━━━━━━━━━━━━━━━━━━━━━\u001b[0m \u001b[32m6.8/6.8 MB\u001b[0m \u001b[31m60.3 MB/s\u001b[0m eta \u001b[36m0:00:00\u001b[0m\n",
            "\u001b[2K     \u001b[90m━━━━━━━━━━━━━━━━━━━━━━━━━━━━━━━━━━━━━━━━\u001b[0m \u001b[32m1.3/1.3 MB\u001b[0m \u001b[31m42.1 MB/s\u001b[0m eta \u001b[36m0:00:00\u001b[0m\n",
            "\u001b[2K     \u001b[90m━━━━━━━━━━━━━━━━━━━━━━━━━━━━━━━━━━━━━━\u001b[0m \u001b[32m468.7/468.7 kB\u001b[0m \u001b[31m27.6 MB/s\u001b[0m eta \u001b[36m0:00:00\u001b[0m\n",
            "\u001b[2K     \u001b[90m━━━━━━━━━━━━━━━━━━━━━━━━━━━━━━━━━━━━━━\u001b[0m \u001b[32m132.9/132.9 kB\u001b[0m \u001b[31m10.3 MB/s\u001b[0m eta \u001b[36m0:00:00\u001b[0m\n",
            "\u001b[2K     \u001b[90m━━━━━━━━━━━━━━━━━━━━━━━━━━━━━━━━━━━━━━━\u001b[0m \u001b[32m110.5/110.5 kB\u001b[0m \u001b[31m7.9 MB/s\u001b[0m eta \u001b[36m0:00:00\u001b[0m\n",
            "\u001b[2K     \u001b[90m━━━━━━━━━━━━━━━━━━━━━━━━━━━━━━━━━━━━━━━━\u001b[0m \u001b[32m1.0/1.0 MB\u001b[0m \u001b[31m14.6 MB/s\u001b[0m eta \u001b[36m0:00:00\u001b[0m\n",
            "\u001b[2K     \u001b[90m━━━━━━━━━━━━━━━━━━━━━━━━━━━━━━━━━━━━━━━\u001b[0m \u001b[32m212.2/212.2 kB\u001b[0m \u001b[31m9.0 MB/s\u001b[0m eta \u001b[36m0:00:00\u001b[0m\n",
            "\u001b[2K     \u001b[90m━━━━━━━━━━━━━━━━━━━━━━━━━━━━━━━━━━━━━━\u001b[0m \u001b[32m200.1/200.1 kB\u001b[0m \u001b[31m14.6 MB/s\u001b[0m eta \u001b[36m0:00:00\u001b[0m\n",
            "\u001b[2K     \u001b[90m━━━━━━━━━━━━━━━━━━━━━━━━━━━━━━━━━━━━━━━━\u001b[0m \u001b[32m7.8/7.8 MB\u001b[0m \u001b[31m43.9 MB/s\u001b[0m eta \u001b[36m0:00:00\u001b[0m\n",
            "\u001b[2K     \u001b[90m━━━━━━━━━━━━━━━━━━━━━━━━━━━━━━━━━━━━━━━\u001b[0m \u001b[32m158.8/158.8 kB\u001b[0m \u001b[31m9.5 MB/s\u001b[0m eta \u001b[36m0:00:00\u001b[0m\n",
            "\u001b[2K     \u001b[90m━━━━━━━━━━━━━━━━━━━━━━━━━━━━━━━━━━━━━━━\u001b[0m \u001b[32m114.2/114.2 kB\u001b[0m \u001b[31m1.4 MB/s\u001b[0m eta \u001b[36m0:00:00\u001b[0m\n",
            "\u001b[2K     \u001b[90m━━━━━━━━━━━━━━━━━━━━━━━━━━━━━━━━━━━━━━━\u001b[0m \u001b[32m264.6/264.6 kB\u001b[0m \u001b[31m8.0 MB/s\u001b[0m eta \u001b[36m0:00:00\u001b[0m\n",
            "\u001b[2K     \u001b[90m━━━━━━━━━━━━━━━━━━━━━━━━━━━━━━━━━━━━━━━━\u001b[0m \u001b[32m1.6/1.6 MB\u001b[0m \u001b[31m22.0 MB/s\u001b[0m eta \u001b[36m0:00:00\u001b[0m\n",
            "\u001b[?25h"
          ]
        }
      ],
      "source": [
        "!pip install -Uqq fastbook\n",
        "import fastbook"
      ]
    },
    {
      "cell_type": "code",
      "source": [
        "!pip install voila\n",
        "!jupyter serverextension enable --sys-prefix voila"
      ],
      "metadata": {
        "colab": {
          "base_uri": "https://localhost:8080/",
          "height": 1000
        },
        "collapsed": true,
        "id": "avRsMdmne8km",
        "outputId": "47f570ee-8102-4ea3-98a0-501090f9431e"
      },
      "execution_count": 2,
      "outputs": [
        {
          "output_type": "stream",
          "name": "stdout",
          "text": [
            "Looking in indexes: https://pypi.org/simple, https://us-python.pkg.dev/colab-wheels/public/simple/\n",
            "Collecting voila\n",
            "  Downloading voila-0.4.0-py3-none-any.whl (5.5 MB)\n",
            "\u001b[2K     \u001b[90m━━━━━━━━━━━━━━━━━━━━━━━━━━━━━━━━━━━━━━━━\u001b[0m \u001b[32m5.5/5.5 MB\u001b[0m \u001b[31m46.8 MB/s\u001b[0m eta \u001b[36m0:00:00\u001b[0m\n",
            "\u001b[?25hRequirement already satisfied: jupyter-server<2.0.0,>=1.18 in /usr/local/lib/python3.9/dist-packages (from voila) (1.23.6)\n",
            "Requirement already satisfied: nbconvert<8,>=6.4.5 in /usr/local/lib/python3.9/dist-packages (from voila) (6.5.4)\n",
            "Requirement already satisfied: jupyter-core>=4.11.0 in /usr/local/lib/python3.9/dist-packages (from voila) (5.3.0)\n",
            "Collecting websockets>=9.0\n",
            "  Downloading websockets-11.0.1-cp39-cp39-manylinux_2_5_x86_64.manylinux1_x86_64.manylinux_2_17_x86_64.manylinux2014_x86_64.whl (129 kB)\n",
            "\u001b[2K     \u001b[90m━━━━━━━━━━━━━━━━━━━━━━━━━━━━━━━━━━━━━━\u001b[0m \u001b[32m129.5/129.5 kB\u001b[0m \u001b[31m16.1 MB/s\u001b[0m eta \u001b[36m0:00:00\u001b[0m\n",
            "\u001b[?25hRequirement already satisfied: jupyter-client<=7.4.1,>=6.1.3 in /usr/local/lib/python3.9/dist-packages (from voila) (6.1.12)\n",
            "Requirement already satisfied: nbclient<0.8,>=0.4.0 in /usr/local/lib/python3.9/dist-packages (from voila) (0.7.3)\n",
            "Requirement already satisfied: traitlets<6,>=5.0.3 in /usr/local/lib/python3.9/dist-packages (from voila) (5.7.1)\n",
            "Collecting jupyterlab-server<3,>=2.3.0\n",
            "  Downloading jupyterlab_server-2.22.0-py3-none-any.whl (57 kB)\n",
            "\u001b[2K     \u001b[90m━━━━━━━━━━━━━━━━━━━━━━━━━━━━━━━━━━━━━━━━\u001b[0m \u001b[32m57.1/57.1 kB\u001b[0m \u001b[31m7.1 MB/s\u001b[0m eta \u001b[36m0:00:00\u001b[0m\n",
            "\u001b[?25hRequirement already satisfied: python-dateutil>=2.1 in /usr/local/lib/python3.9/dist-packages (from jupyter-client<=7.4.1,>=6.1.3->voila) (2.8.2)\n",
            "Requirement already satisfied: tornado>=4.1 in /usr/local/lib/python3.9/dist-packages (from jupyter-client<=7.4.1,>=6.1.3->voila) (6.2)\n",
            "Requirement already satisfied: pyzmq>=13 in /usr/local/lib/python3.9/dist-packages (from jupyter-client<=7.4.1,>=6.1.3->voila) (23.2.1)\n",
            "Requirement already satisfied: platformdirs>=2.5 in /usr/local/lib/python3.9/dist-packages (from jupyter-core>=4.11.0->voila) (3.2.0)\n",
            "Requirement already satisfied: websocket-client in /usr/local/lib/python3.9/dist-packages (from jupyter-server<2.0.0,>=1.18->voila) (1.5.1)\n",
            "Requirement already satisfied: jinja2 in /usr/local/lib/python3.9/dist-packages (from jupyter-server<2.0.0,>=1.18->voila) (3.1.2)\n",
            "Requirement already satisfied: terminado>=0.8.3 in /usr/local/lib/python3.9/dist-packages (from jupyter-server<2.0.0,>=1.18->voila) (0.17.1)\n",
            "Requirement already satisfied: argon2-cffi in /usr/local/lib/python3.9/dist-packages (from jupyter-server<2.0.0,>=1.18->voila) (21.3.0)\n",
            "Requirement already satisfied: anyio<4,>=3.1.0 in /usr/local/lib/python3.9/dist-packages (from jupyter-server<2.0.0,>=1.18->voila) (3.6.2)\n",
            "Requirement already satisfied: nbformat>=5.2.0 in /usr/local/lib/python3.9/dist-packages (from jupyter-server<2.0.0,>=1.18->voila) (5.8.0)\n",
            "Requirement already satisfied: prometheus-client in /usr/local/lib/python3.9/dist-packages (from jupyter-server<2.0.0,>=1.18->voila) (0.16.0)\n",
            "Requirement already satisfied: packaging in /usr/local/lib/python3.9/dist-packages (from jupyter-server<2.0.0,>=1.18->voila) (23.0)\n",
            "Requirement already satisfied: Send2Trash in /usr/local/lib/python3.9/dist-packages (from jupyter-server<2.0.0,>=1.18->voila) (1.8.0)\n",
            "Requirement already satisfied: babel>=2.10 in /usr/local/lib/python3.9/dist-packages (from jupyterlab-server<3,>=2.3.0->voila) (2.12.1)\n",
            "Requirement already satisfied: importlib-metadata>=4.8.3 in /usr/local/lib/python3.9/dist-packages (from jupyterlab-server<3,>=2.3.0->voila) (6.2.0)\n",
            "Collecting jsonschema>=4.17.3\n",
            "  Downloading jsonschema-4.17.3-py3-none-any.whl (90 kB)\n",
            "\u001b[2K     \u001b[90m━━━━━━━━━━━━━━━━━━━━━━━━━━━━━━━━━━━━━━━━\u001b[0m \u001b[32m90.4/90.4 kB\u001b[0m \u001b[31m12.4 MB/s\u001b[0m eta \u001b[36m0:00:00\u001b[0m\n",
            "\u001b[?25hCollecting requests>=2.28\n",
            "  Downloading requests-2.28.2-py3-none-any.whl (62 kB)\n",
            "\u001b[2K     \u001b[90m━━━━━━━━━━━━━━━━━━━━━━━━━━━━━━━━━━━━━━━━\u001b[0m \u001b[32m62.8/62.8 kB\u001b[0m \u001b[31m6.7 MB/s\u001b[0m eta \u001b[36m0:00:00\u001b[0m\n",
            "\u001b[?25hCollecting json5>=0.9.0\n",
            "  Downloading json5-0.9.11-py2.py3-none-any.whl (19 kB)\n",
            "Requirement already satisfied: beautifulsoup4 in /usr/local/lib/python3.9/dist-packages (from nbconvert<8,>=6.4.5->voila) (4.11.2)\n",
            "Requirement already satisfied: defusedxml in /usr/local/lib/python3.9/dist-packages (from nbconvert<8,>=6.4.5->voila) (0.7.1)\n",
            "Requirement already satisfied: pygments>=2.4.1 in /usr/local/lib/python3.9/dist-packages (from nbconvert<8,>=6.4.5->voila) (2.14.0)\n",
            "Requirement already satisfied: bleach in /usr/local/lib/python3.9/dist-packages (from nbconvert<8,>=6.4.5->voila) (6.0.0)\n",
            "Requirement already satisfied: mistune<2,>=0.8.1 in /usr/local/lib/python3.9/dist-packages (from nbconvert<8,>=6.4.5->voila) (0.8.4)\n",
            "Requirement already satisfied: tinycss2 in /usr/local/lib/python3.9/dist-packages (from nbconvert<8,>=6.4.5->voila) (1.2.1)\n",
            "Requirement already satisfied: pandocfilters>=1.4.1 in /usr/local/lib/python3.9/dist-packages (from nbconvert<8,>=6.4.5->voila) (1.5.0)\n",
            "Requirement already satisfied: lxml in /usr/local/lib/python3.9/dist-packages (from nbconvert<8,>=6.4.5->voila) (4.9.2)\n",
            "Requirement already satisfied: entrypoints>=0.2.2 in /usr/local/lib/python3.9/dist-packages (from nbconvert<8,>=6.4.5->voila) (0.4)\n",
            "Requirement already satisfied: jupyterlab-pygments in /usr/local/lib/python3.9/dist-packages (from nbconvert<8,>=6.4.5->voila) (0.2.2)\n",
            "Requirement already satisfied: MarkupSafe>=2.0 in /usr/local/lib/python3.9/dist-packages (from nbconvert<8,>=6.4.5->voila) (2.1.2)\n",
            "Requirement already satisfied: idna>=2.8 in /usr/local/lib/python3.9/dist-packages (from anyio<4,>=3.1.0->jupyter-server<2.0.0,>=1.18->voila) (3.4)\n",
            "Requirement already satisfied: sniffio>=1.1 in /usr/local/lib/python3.9/dist-packages (from anyio<4,>=3.1.0->jupyter-server<2.0.0,>=1.18->voila) (1.3.0)\n",
            "Requirement already satisfied: zipp>=0.5 in /usr/local/lib/python3.9/dist-packages (from importlib-metadata>=4.8.3->jupyterlab-server<3,>=2.3.0->voila) (3.15.0)\n",
            "Requirement already satisfied: attrs>=17.4.0 in /usr/local/lib/python3.9/dist-packages (from jsonschema>=4.17.3->jupyterlab-server<3,>=2.3.0->voila) (22.2.0)\n",
            "Requirement already satisfied: pyrsistent!=0.17.0,!=0.17.1,!=0.17.2,>=0.14.0 in /usr/local/lib/python3.9/dist-packages (from jsonschema>=4.17.3->jupyterlab-server<3,>=2.3.0->voila) (0.19.3)\n",
            "Requirement already satisfied: fastjsonschema in /usr/local/lib/python3.9/dist-packages (from nbformat>=5.2.0->jupyter-server<2.0.0,>=1.18->voila) (2.16.3)\n",
            "Requirement already satisfied: six>=1.5 in /usr/local/lib/python3.9/dist-packages (from python-dateutil>=2.1->jupyter-client<=7.4.1,>=6.1.3->voila) (1.16.0)\n",
            "Requirement already satisfied: certifi>=2017.4.17 in /usr/local/lib/python3.9/dist-packages (from requests>=2.28->jupyterlab-server<3,>=2.3.0->voila) (2022.12.7)\n",
            "Requirement already satisfied: charset-normalizer<4,>=2 in /usr/local/lib/python3.9/dist-packages (from requests>=2.28->jupyterlab-server<3,>=2.3.0->voila) (2.0.12)\n",
            "Requirement already satisfied: urllib3<1.27,>=1.21.1 in /usr/local/lib/python3.9/dist-packages (from requests>=2.28->jupyterlab-server<3,>=2.3.0->voila) (1.26.15)\n",
            "Requirement already satisfied: ptyprocess in /usr/local/lib/python3.9/dist-packages (from terminado>=0.8.3->jupyter-server<2.0.0,>=1.18->voila) (0.7.0)\n",
            "Requirement already satisfied: argon2-cffi-bindings in /usr/local/lib/python3.9/dist-packages (from argon2-cffi->jupyter-server<2.0.0,>=1.18->voila) (21.2.0)\n",
            "Requirement already satisfied: soupsieve>1.2 in /usr/local/lib/python3.9/dist-packages (from beautifulsoup4->nbconvert<8,>=6.4.5->voila) (2.4)\n",
            "Requirement already satisfied: webencodings in /usr/local/lib/python3.9/dist-packages (from bleach->nbconvert<8,>=6.4.5->voila) (0.5.1)\n",
            "Requirement already satisfied: cffi>=1.0.1 in /usr/local/lib/python3.9/dist-packages (from argon2-cffi-bindings->argon2-cffi->jupyter-server<2.0.0,>=1.18->voila) (1.15.1)\n",
            "Requirement already satisfied: pycparser in /usr/local/lib/python3.9/dist-packages (from cffi>=1.0.1->argon2-cffi-bindings->argon2-cffi->jupyter-server<2.0.0,>=1.18->voila) (2.21)\n",
            "Installing collected packages: json5, websockets, requests, jsonschema, jupyterlab-server, voila\n",
            "  Attempting uninstall: requests\n",
            "    Found existing installation: requests 2.27.1\n",
            "    Uninstalling requests-2.27.1:\n",
            "      Successfully uninstalled requests-2.27.1\n",
            "  Attempting uninstall: jsonschema\n",
            "    Found existing installation: jsonschema 4.3.3\n",
            "    Uninstalling jsonschema-4.3.3:\n",
            "      Successfully uninstalled jsonschema-4.3.3\n",
            "Successfully installed json5-0.9.11 jsonschema-4.17.3 jupyterlab-server-2.22.0 requests-2.28.2 voila-0.4.0 websockets-11.0.1\n"
          ]
        },
        {
          "output_type": "display_data",
          "data": {
            "application/vnd.colab-display-data+json": {
              "pip_warning": {
                "packages": [
                  "requests"
                ]
              }
            }
          },
          "metadata": {}
        },
        {
          "output_type": "stream",
          "name": "stdout",
          "text": [
            "Enabling: voila\n",
            "- Writing config: /usr/etc/jupyter\n",
            "    - Validating...\n",
            "      voila 0.4.0 \u001b[32mOK\u001b[0m\n"
          ]
        }
      ]
    },
    {
      "cell_type": "code",
      "source": [
        "from fastbook import *\n",
        "from fastai.vision.widgets import *"
      ],
      "metadata": {
        "id": "b-iY-VDoe1ya"
      },
      "execution_count": 3,
      "outputs": []
    },
    {
      "cell_type": "code",
      "source": [
        "path = Path('.')"
      ],
      "metadata": {
        "id": "Rlm0fWLZe4_s"
      },
      "execution_count": 6,
      "outputs": []
    },
    {
      "cell_type": "code",
      "source": [
        "path.ls(file_exts='.pkl')"
      ],
      "metadata": {
        "colab": {
          "base_uri": "https://localhost:8080/"
        },
        "id": "gLyGWuDHhG1g",
        "outputId": "1275da8f-2792-4bed-e19c-cdc1bd6eabff"
      },
      "execution_count": 19,
      "outputs": [
        {
          "output_type": "execute_result",
          "data": {
            "text/plain": [
              "(#1) [Path('/content/gdrive/MyDrive/Small_Dataset/classy.pkl')]"
            ]
          },
          "metadata": {},
          "execution_count": 19
        }
      ]
    },
    {
      "cell_type": "code",
      "source": [
        "learn = load_learner(path/'black_normal_classifier.pkl')"
      ],
      "metadata": {
        "id": "6ITuAgLfhLB0"
      },
      "execution_count": 20,
      "outputs": []
    },
    {
      "cell_type": "code",
      "source": [
        "#hide_output\n",
        "btn_run = widgets.Button(description='Classify')\n",
        "btn_run"
      ],
      "metadata": {
        "colab": {
          "base_uri": "https://localhost:8080/",
          "height": 49,
          "referenced_widgets": [
            "5430b40c0e894e3db76d564c8c4a1c02",
            "c0e4c93e6d0e4206be8923914b5f3ca8",
            "50498d40d45644b39b0a1671e3736539"
          ]
        },
        "id": "BMTOtiN9fAEI",
        "outputId": "b8cc12af-94e4-4055-c178-47ab04b6362d"
      },
      "execution_count": 21,
      "outputs": [
        {
          "output_type": "display_data",
          "data": {
            "text/plain": [
              "Button(description='Classify', style=ButtonStyle())"
            ],
            "application/vnd.jupyter.widget-view+json": {
              "version_major": 2,
              "version_minor": 0,
              "model_id": "5430b40c0e894e3db76d564c8c4a1c02"
            }
          },
          "metadata": {}
        }
      ]
    },
    {
      "cell_type": "code",
      "source": [
        "out_pl = widgets.Output()\n",
        "lbl_pred = widgets.Label()"
      ],
      "metadata": {
        "id": "XVFNqPZ4gvIX"
      },
      "execution_count": 22,
      "outputs": []
    },
    {
      "cell_type": "code",
      "source": [
        "def on_click_classify(change):\n",
        "    img = PILImage.create(btn_upload.data[-1])\n",
        "    out_pl.clear_output()\n",
        "    with out_pl: display(img.to_thumb(128,128))\n",
        "    pred,pred_idx,probs = learn.predict(img)\n",
        "    lbl_pred.value = f'Prediction: {pred}; Probability: {probs[pred_idx]:.04f}'\n",
        "\n",
        "btn_run.on_click(on_click_classify)"
      ],
      "metadata": {
        "id": "KTBtVT5-fE3o"
      },
      "execution_count": 23,
      "outputs": []
    },
    {
      "cell_type": "code",
      "source": [
        "btn_upload = widgets.FileUpload()"
      ],
      "metadata": {
        "id": "XuKVIyVafHM-"
      },
      "execution_count": 24,
      "outputs": []
    },
    {
      "cell_type": "code",
      "source": [
        "#hide_output\n",
        "VBox([widgets.Label('Select your Image!'), \n",
        "      btn_upload, btn_run, out_pl, lbl_pred])"
      ],
      "metadata": {
        "colab": {
          "base_uri": "https://localhost:8080/",
          "height": 273,
          "referenced_widgets": [
            "129bdf10f20e4c799530a75197c0687d",
            "1cdaeee488044d3eb3f3a74e92777f62",
            "3bf0481b9b214bb788074b3b311e7dce",
            "5430b40c0e894e3db76d564c8c4a1c02",
            "1d4b16cddbeb4135ba2459edd34d1d64",
            "9725aa4cfdab450fa5865d421cae9537",
            "31616192d41d47d5a3a5049740c10ac6",
            "dc2a9c80f2e34ce5a1e5340bf7eacd90",
            "fcd03b94b32242ee8d6db150b8925680",
            "5319dd4e39464e9a83618d109a7bb804",
            "f24eeb44943744c3a256234533d420a4",
            "c0e4c93e6d0e4206be8923914b5f3ca8",
            "50498d40d45644b39b0a1671e3736539",
            "8504c9de50d14c7bb6322ceaeec1c958",
            "e22f8b09bdb644319bdf4f425d149d27",
            "8b12d59493ac4878bc9696539b004e0f"
          ]
        },
        "id": "ZAvKWTvAfI4N",
        "outputId": "eae04dd8-32cb-4dd7-c059-99f89f8ba423"
      },
      "execution_count": 25,
      "outputs": [
        {
          "output_type": "display_data",
          "data": {
            "text/plain": [
              "VBox(children=(Label(value='Select your bear!'), FileUpload(value={}, description='Upload'), Button(descriptio…"
            ],
            "application/vnd.jupyter.widget-view+json": {
              "version_major": 2,
              "version_minor": 0,
              "model_id": "129bdf10f20e4c799530a75197c0687d"
            }
          },
          "metadata": {}
        },
        {
          "output_type": "display_data",
          "data": {
            "text/plain": [
              "<IPython.core.display.HTML object>"
            ],
            "text/html": [
              "\n",
              "<style>\n",
              "    /* Turns off some styling */\n",
              "    progress {\n",
              "        /* gets rid of default border in Firefox and Opera. */\n",
              "        border: none;\n",
              "        /* Needs to be in here for Safari polyfill so background images work as expected. */\n",
              "        background-size: auto;\n",
              "    }\n",
              "    progress:not([value]), progress:not([value])::-webkit-progress-bar {\n",
              "        background: repeating-linear-gradient(45deg, #7e7e7e, #7e7e7e 10px, #5c5c5c 10px, #5c5c5c 20px);\n",
              "    }\n",
              "    .progress-bar-interrupted, .progress-bar-interrupted::-webkit-progress-bar {\n",
              "        background: #F44336;\n",
              "    }\n",
              "</style>\n"
            ]
          },
          "metadata": {}
        },
        {
          "output_type": "display_data",
          "data": {
            "text/plain": [
              "<IPython.core.display.HTML object>"
            ],
            "text/html": []
          },
          "metadata": {}
        }
      ]
    },
    {
      "cell_type": "code",
      "source": [],
      "metadata": {
        "id": "38wc0Q6jfRMZ"
      },
      "execution_count": null,
      "outputs": []
    }
  ]
}